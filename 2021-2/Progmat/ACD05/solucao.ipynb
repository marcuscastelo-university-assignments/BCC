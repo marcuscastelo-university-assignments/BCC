{
 "cells": [
  {
   "cell_type": "code",
   "execution_count": null,
   "source": [],
   "outputs": [],
   "metadata": {}
  },
  {
   "cell_type": "markdown",
   "source": [
    "# 1. Escreva o problema artificial $P_A$ para encontrar uma solução inicial de $P$ usando a Fase I do Simplex de Duas Fases.\n",
    "\n",
    "A Fase I consiste em criar um problema artificial ($P_A$) para o problema original ($P$)\n",
    "\n",
    "Dessa forma, o problema original $Ax = b$ torna-se $Ax + y = b$ e a função a ser minimizada torna-se $\\sum_{i=1}^m y_i$.\n",
    "\n",
    "Mais formalmente:\n",
    "\n",
    "$P_A$:\n",
    "\n",
    "minimizar $y_1 + y_2 + y_3 + y_4$ \\\n",
    "sujeita a \\\n",
    "$2x_1 + 3x_2 + 7x_3  + x_4 = -2$ \\\n",
    "$x_1  - x_2  - 3x_3 - 5x_4 = 3$ \\\n",
    "$-x_1 + 5x_2 +       + x_4 = 5$ \\\n",
    "$x_1, x_2, x_3, x_4 \\ge 0$\n",
    "\n",
    "\\begin{array}{ r @{{}={}} r  >{{}}c<{{}} r  >{{}}c<{{}}  r }\n",
    "x_1 & 2r &+&  s &-&  t \\\\\n",
    "x_2 &  r               \\\\\n",
    "x_3 &    &-& 2s &+& 2t \\\\ \n",
    "x_4 &    & &  s        \\\\\n",
    "x_5 &    & &    & &  t \\\\\n",
    "\\end{array}\n",
    "\n"
   ],
   "metadata": {}
  }
 ],
 "metadata": {
  "orig_nbformat": 4,
  "language_info": {
   "name": "python"
  }
 },
 "nbformat": 4,
 "nbformat_minor": 2
}